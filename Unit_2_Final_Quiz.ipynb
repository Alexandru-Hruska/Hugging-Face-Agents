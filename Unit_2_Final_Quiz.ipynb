{
  "nbformat": 4,
  "nbformat_minor": 0,
  "metadata": {
    "colab": {
      "provenance": []
    },
    "kernelspec": {
      "name": "python3",
      "display_name": "Python 3"
    },
    "language_info": {
      "name": "python"
    }
  },
  "cells": [
    {
      "cell_type": "markdown",
      "source": [
        "## Question 1 Create a CodeAgent with DuckDuckGo search capability"
      ],
      "metadata": {
        "id": "WDW-Da-8v7w8"
      }
    },
    {
      "cell_type": "code",
      "source": [
        "from smolagents import CodeAgent, DuckDuckGoSearchTool, HfApiModel\n",
        "\n",
        "agent = CodeAgent(tools=[DuckDuckGoSearchTool()],\n",
        "        model=HfApiModel(model_id=\"Qwen/Qwen2.5-Coder-32B-Instruct\"))\n",
        "agent.run(\"Search for the best music recommendations for a party at the Wayne's mansion.\")"
      ],
      "metadata": {
        "id": "t_dGktw3v-GX"
      },
      "execution_count": null,
      "outputs": []
    },
    {
      "cell_type": "markdown",
      "source": [
        "## Question 2 Create web agent and manager agent structure\n"
      ],
      "metadata": {
        "id": "5ab10rkdv9lS"
      }
    },
    {
      "cell_type": "code",
      "source": [
        "from smolagents import CodeAgent, ToolCallingAgent, DuckDuckGoSearchTool, HfApiModel\n",
        "\n",
        "web_agent = ToolCallingAgent(tools=[DuckDuckGoSearchTool(), VisitWebpageTool()],\n",
        "            model=HfApiModel(model_id=\"Qwen/Qwen2.5-Coder-32B-Instruct\"),\n",
        "            max_steps=10,\n",
        "            name=\"search\",\n",
        "            description=\"Agent to perform web searches and visit webpages\")\n",
        "\n",
        "manager_agent = CodeAgent(\n",
        "                model=HfApiModel(model_id=\"Qwen/Qwen2.5-Coder-32B-Instruct\"),\n",
        "                managed_agents=[web_agent],\n",
        "                additional_authorized_imports=[\"pandas\", \"time\", \"numpy\"],)"
      ],
      "metadata": {
        "id": "CotCVJfPv-bv"
      },
      "execution_count": null,
      "outputs": []
    },
    {
      "cell_type": "markdown",
      "source": [
        "## Question 3 Set up secure code execution environment\n"
      ],
      "metadata": {
        "id": "DJriAG0cv9nu"
      }
    },
    {
      "cell_type": "code",
      "source": [
        "from smolagents import CodeAgent, E2BSandbox\n",
        "\n",
        "agent = CodeAgent(tools=[],\n",
        "        model=model,\n",
        "        sandbox=E2BSandbox(),\n",
        "        additional_authorized_imports=[\"numpy\"],)"
      ],
      "metadata": {
        "id": "6oh-PL55v-zW"
      },
      "execution_count": null,
      "outputs": []
    },
    {
      "cell_type": "markdown",
      "source": [
        "## Question 4 Implement a Tool-Calling Agen\n"
      ],
      "metadata": {
        "id": "N1RU5soPv9qS"
      }
    },
    {
      "cell_type": "code",
      "source": [
        "from smolagents import ToolCallingAgent, DuckDuckGoSearchTool, HfApiModel\n",
        "\n",
        "agent = ToolCallingAgent(\n",
        "        tools=[DuckDuckGoSearchTool()],\n",
        "        model=HfApiModel(model_id=\"Qwen/Qwen2.5-Coder-32B-Instruct\"),\n",
        "        max_steps=5,\n",
        "        name=\"web_search\",\n",
        "        description=\"search\")"
      ],
      "metadata": {
        "id": "2V1NznhFv_KZ"
      },
      "execution_count": null,
      "outputs": []
    },
    {
      "cell_type": "markdown",
      "source": [
        "## Question 5 Set Up Model Integration\n"
      ],
      "metadata": {
        "id": "83ImZAeiv9so"
      }
    },
    {
      "cell_type": "code",
      "source": [
        "from smolagents import HfApiModel, LiteLLMModel\n",
        "\n",
        "model = HfApiModel(model_id=\"Qwen/Qwen2.5-Coder-32B-Instruct\")\n",
        "l_model = LiteLLMModel(\"anthropic/claude-3-sonnet\")"
      ],
      "metadata": {
        "id": "XjUkFmmwv_gx"
      },
      "execution_count": null,
      "outputs": []
    }
  ]
}